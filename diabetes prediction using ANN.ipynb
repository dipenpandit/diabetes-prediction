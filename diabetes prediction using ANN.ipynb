{
 "cells": [
  {
   "cell_type": "code",
   "execution_count": 1,
   "id": "a773cc14",
   "metadata": {},
   "outputs": [],
   "source": [
    "import numpy as np\n",
    "import pandas as pd\n",
    "import matplotlib.pyplot as plt"
   ]
  },
  {
   "cell_type": "markdown",
   "id": "5c1cdab8",
   "metadata": {},
   "source": [
    "# Data Preprocessing"
   ]
  },
  {
   "cell_type": "markdown",
   "id": "242b0649",
   "metadata": {},
   "source": [
    "### Importing the dataset"
   ]
  },
  {
   "cell_type": "code",
   "execution_count": 2,
   "id": "3dfe5c6c",
   "metadata": {},
   "outputs": [
    {
     "data": {
      "text/html": [
       "<div>\n",
       "<style scoped>\n",
       "    .dataframe tbody tr th:only-of-type {\n",
       "        vertical-align: middle;\n",
       "    }\n",
       "\n",
       "    .dataframe tbody tr th {\n",
       "        vertical-align: top;\n",
       "    }\n",
       "\n",
       "    .dataframe thead th {\n",
       "        text-align: right;\n",
       "    }\n",
       "</style>\n",
       "<table border=\"1\" class=\"dataframe\">\n",
       "  <thead>\n",
       "    <tr style=\"text-align: right;\">\n",
       "      <th></th>\n",
       "      <th>Pregnancies</th>\n",
       "      <th>Glucose</th>\n",
       "      <th>BloodPressure</th>\n",
       "      <th>SkinThickness</th>\n",
       "      <th>Insulin</th>\n",
       "      <th>BMI</th>\n",
       "      <th>DiabetesPedigreeFunction</th>\n",
       "      <th>Age</th>\n",
       "      <th>Outcome</th>\n",
       "    </tr>\n",
       "  </thead>\n",
       "  <tbody>\n",
       "    <tr>\n",
       "      <th>0</th>\n",
       "      <td>6</td>\n",
       "      <td>148</td>\n",
       "      <td>72</td>\n",
       "      <td>35</td>\n",
       "      <td>0</td>\n",
       "      <td>33.6</td>\n",
       "      <td>0.627</td>\n",
       "      <td>50</td>\n",
       "      <td>1</td>\n",
       "    </tr>\n",
       "    <tr>\n",
       "      <th>1</th>\n",
       "      <td>1</td>\n",
       "      <td>85</td>\n",
       "      <td>66</td>\n",
       "      <td>29</td>\n",
       "      <td>0</td>\n",
       "      <td>26.6</td>\n",
       "      <td>0.351</td>\n",
       "      <td>31</td>\n",
       "      <td>0</td>\n",
       "    </tr>\n",
       "    <tr>\n",
       "      <th>2</th>\n",
       "      <td>8</td>\n",
       "      <td>183</td>\n",
       "      <td>64</td>\n",
       "      <td>0</td>\n",
       "      <td>0</td>\n",
       "      <td>23.3</td>\n",
       "      <td>0.672</td>\n",
       "      <td>32</td>\n",
       "      <td>1</td>\n",
       "    </tr>\n",
       "    <tr>\n",
       "      <th>3</th>\n",
       "      <td>1</td>\n",
       "      <td>89</td>\n",
       "      <td>66</td>\n",
       "      <td>23</td>\n",
       "      <td>94</td>\n",
       "      <td>28.1</td>\n",
       "      <td>0.167</td>\n",
       "      <td>21</td>\n",
       "      <td>0</td>\n",
       "    </tr>\n",
       "    <tr>\n",
       "      <th>4</th>\n",
       "      <td>0</td>\n",
       "      <td>137</td>\n",
       "      <td>40</td>\n",
       "      <td>35</td>\n",
       "      <td>168</td>\n",
       "      <td>43.1</td>\n",
       "      <td>2.288</td>\n",
       "      <td>33</td>\n",
       "      <td>1</td>\n",
       "    </tr>\n",
       "  </tbody>\n",
       "</table>\n",
       "</div>"
      ],
      "text/plain": [
       "   Pregnancies  Glucose  BloodPressure  SkinThickness  Insulin   BMI  \\\n",
       "0            6      148             72             35        0  33.6   \n",
       "1            1       85             66             29        0  26.6   \n",
       "2            8      183             64              0        0  23.3   \n",
       "3            1       89             66             23       94  28.1   \n",
       "4            0      137             40             35      168  43.1   \n",
       "\n",
       "   DiabetesPedigreeFunction  Age  Outcome  \n",
       "0                     0.627   50        1  \n",
       "1                     0.351   31        0  \n",
       "2                     0.672   32        1  \n",
       "3                     0.167   21        0  \n",
       "4                     2.288   33        1  "
      ]
     },
     "execution_count": 2,
     "metadata": {},
     "output_type": "execute_result"
    }
   ],
   "source": [
    "# importing datset\n",
    "\n",
    "df = pd.read_csv('diabetes.csv')\n",
    "df.head()"
   ]
  },
  {
   "cell_type": "markdown",
   "id": "1fe1e153",
   "metadata": {},
   "source": [
    "### Checking null entries"
   ]
  },
  {
   "cell_type": "code",
   "execution_count": 3,
   "id": "ba3b4b73",
   "metadata": {},
   "outputs": [
    {
     "data": {
      "text/plain": [
       "Pregnancies                 0\n",
       "Glucose                     0\n",
       "BloodPressure               0\n",
       "SkinThickness               0\n",
       "Insulin                     0\n",
       "BMI                         0\n",
       "DiabetesPedigreeFunction    0\n",
       "Age                         0\n",
       "Outcome                     0\n",
       "dtype: int64"
      ]
     },
     "execution_count": 3,
     "metadata": {},
     "output_type": "execute_result"
    }
   ],
   "source": [
    "# null entries count\n",
    "\n",
    "df.isnull().sum()"
   ]
  },
  {
   "cell_type": "code",
   "execution_count": 4,
   "id": "48043e38",
   "metadata": {},
   "outputs": [
    {
     "name": "stdout",
     "output_type": "stream",
     "text": [
      "<class 'pandas.core.frame.DataFrame'>\n",
      "RangeIndex: 768 entries, 0 to 767\n",
      "Data columns (total 9 columns):\n",
      " #   Column                    Non-Null Count  Dtype  \n",
      "---  ------                    --------------  -----  \n",
      " 0   Pregnancies               768 non-null    int64  \n",
      " 1   Glucose                   768 non-null    int64  \n",
      " 2   BloodPressure             768 non-null    int64  \n",
      " 3   SkinThickness             768 non-null    int64  \n",
      " 4   Insulin                   768 non-null    int64  \n",
      " 5   BMI                       768 non-null    float64\n",
      " 6   DiabetesPedigreeFunction  768 non-null    float64\n",
      " 7   Age                       768 non-null    int64  \n",
      " 8   Outcome                   768 non-null    int64  \n",
      "dtypes: float64(2), int64(7)\n",
      "memory usage: 54.1 KB\n"
     ]
    }
   ],
   "source": [
    "df.info()"
   ]
  },
  {
   "cell_type": "markdown",
   "id": "be3ac577",
   "metadata": {},
   "source": [
    "### Checking duplicate entries "
   ]
  },
  {
   "cell_type": "code",
   "execution_count": 5,
   "id": "c946df6b",
   "metadata": {},
   "outputs": [
    {
     "data": {
      "text/plain": [
       "0      False\n",
       "1      False\n",
       "2      False\n",
       "3      False\n",
       "4      False\n",
       "       ...  \n",
       "763    False\n",
       "764    False\n",
       "765    False\n",
       "766    False\n",
       "767    False\n",
       "Length: 768, dtype: bool"
      ]
     },
     "execution_count": 5,
     "metadata": {},
     "output_type": "execute_result"
    }
   ],
   "source": [
    "df.duplicated()"
   ]
  },
  {
   "cell_type": "code",
   "execution_count": 6,
   "id": "9e51932a",
   "metadata": {},
   "outputs": [
    {
     "data": {
      "text/plain": [
       "0"
      ]
     },
     "execution_count": 6,
     "metadata": {},
     "output_type": "execute_result"
    }
   ],
   "source": [
    "df.duplicated().sum()"
   ]
  },
  {
   "cell_type": "markdown",
   "id": "1a680850",
   "metadata": {},
   "source": [
    "### Extracting feature and target values"
   ]
  },
  {
   "cell_type": "code",
   "execution_count": 7,
   "id": "0c205495",
   "metadata": {},
   "outputs": [
    {
     "data": {
      "text/plain": [
       "['Pregnancies',\n",
       " 'Glucose',\n",
       " 'BloodPressure',\n",
       " 'SkinThickness',\n",
       " 'Insulin',\n",
       " 'BMI',\n",
       " 'DiabetesPedigreeFunction',\n",
       " 'Age']"
      ]
     },
     "execution_count": 7,
     "metadata": {},
     "output_type": "execute_result"
    }
   ],
   "source": [
    "# list of features\n",
    "\n",
    "features = [x for x in df.columns if x not in df.columns[-1]]\n",
    "features"
   ]
  },
  {
   "cell_type": "code",
   "execution_count": 8,
   "id": "76a2bc72",
   "metadata": {},
   "outputs": [
    {
     "data": {
      "text/plain": [
       "'Outcome'"
      ]
     },
     "execution_count": 8,
     "metadata": {},
     "output_type": "execute_result"
    }
   ],
   "source": [
    "# target label\n",
    "\n",
    "target = df.columns[-1]\n",
    "target"
   ]
  },
  {
   "cell_type": "code",
   "execution_count": 9,
   "id": "effbe1e3",
   "metadata": {},
   "outputs": [
    {
     "data": {
      "text/html": [
       "<div>\n",
       "<style scoped>\n",
       "    .dataframe tbody tr th:only-of-type {\n",
       "        vertical-align: middle;\n",
       "    }\n",
       "\n",
       "    .dataframe tbody tr th {\n",
       "        vertical-align: top;\n",
       "    }\n",
       "\n",
       "    .dataframe thead th {\n",
       "        text-align: right;\n",
       "    }\n",
       "</style>\n",
       "<table border=\"1\" class=\"dataframe\">\n",
       "  <thead>\n",
       "    <tr style=\"text-align: right;\">\n",
       "      <th></th>\n",
       "      <th>Pregnancies</th>\n",
       "      <th>Glucose</th>\n",
       "      <th>BloodPressure</th>\n",
       "      <th>SkinThickness</th>\n",
       "      <th>Insulin</th>\n",
       "      <th>BMI</th>\n",
       "      <th>DiabetesPedigreeFunction</th>\n",
       "      <th>Age</th>\n",
       "    </tr>\n",
       "  </thead>\n",
       "  <tbody>\n",
       "    <tr>\n",
       "      <th>0</th>\n",
       "      <td>6</td>\n",
       "      <td>148</td>\n",
       "      <td>72</td>\n",
       "      <td>35</td>\n",
       "      <td>0</td>\n",
       "      <td>33.6</td>\n",
       "      <td>0.627</td>\n",
       "      <td>50</td>\n",
       "    </tr>\n",
       "    <tr>\n",
       "      <th>1</th>\n",
       "      <td>1</td>\n",
       "      <td>85</td>\n",
       "      <td>66</td>\n",
       "      <td>29</td>\n",
       "      <td>0</td>\n",
       "      <td>26.6</td>\n",
       "      <td>0.351</td>\n",
       "      <td>31</td>\n",
       "    </tr>\n",
       "    <tr>\n",
       "      <th>2</th>\n",
       "      <td>8</td>\n",
       "      <td>183</td>\n",
       "      <td>64</td>\n",
       "      <td>0</td>\n",
       "      <td>0</td>\n",
       "      <td>23.3</td>\n",
       "      <td>0.672</td>\n",
       "      <td>32</td>\n",
       "    </tr>\n",
       "    <tr>\n",
       "      <th>3</th>\n",
       "      <td>1</td>\n",
       "      <td>89</td>\n",
       "      <td>66</td>\n",
       "      <td>23</td>\n",
       "      <td>94</td>\n",
       "      <td>28.1</td>\n",
       "      <td>0.167</td>\n",
       "      <td>21</td>\n",
       "    </tr>\n",
       "    <tr>\n",
       "      <th>4</th>\n",
       "      <td>0</td>\n",
       "      <td>137</td>\n",
       "      <td>40</td>\n",
       "      <td>35</td>\n",
       "      <td>168</td>\n",
       "      <td>43.1</td>\n",
       "      <td>2.288</td>\n",
       "      <td>33</td>\n",
       "    </tr>\n",
       "  </tbody>\n",
       "</table>\n",
       "</div>"
      ],
      "text/plain": [
       "   Pregnancies  Glucose  BloodPressure  SkinThickness  Insulin   BMI  \\\n",
       "0            6      148             72             35        0  33.6   \n",
       "1            1       85             66             29        0  26.6   \n",
       "2            8      183             64              0        0  23.3   \n",
       "3            1       89             66             23       94  28.1   \n",
       "4            0      137             40             35      168  43.1   \n",
       "\n",
       "   DiabetesPedigreeFunction  Age  \n",
       "0                     0.627   50  \n",
       "1                     0.351   31  \n",
       "2                     0.672   32  \n",
       "3                     0.167   21  \n",
       "4                     2.288   33  "
      ]
     },
     "execution_count": 9,
     "metadata": {},
     "output_type": "execute_result"
    }
   ],
   "source": [
    "# Extracting features\n",
    "\n",
    "df_features = df.drop('Outcome', axis = 1)\n",
    "df_features.head()"
   ]
  },
  {
   "cell_type": "code",
   "execution_count": 10,
   "id": "abba10dd",
   "metadata": {},
   "outputs": [
    {
     "data": {
      "text/plain": [
       "array([[6.000e+00, 1.480e+02, 7.200e+01, 3.500e+01, 0.000e+00, 3.360e+01,\n",
       "        6.270e-01, 5.000e+01],\n",
       "       [1.000e+00, 8.500e+01, 6.600e+01, 2.900e+01, 0.000e+00, 2.660e+01,\n",
       "        3.510e-01, 3.100e+01],\n",
       "       [8.000e+00, 1.830e+02, 6.400e+01, 0.000e+00, 0.000e+00, 2.330e+01,\n",
       "        6.720e-01, 3.200e+01],\n",
       "       [1.000e+00, 8.900e+01, 6.600e+01, 2.300e+01, 9.400e+01, 2.810e+01,\n",
       "        1.670e-01, 2.100e+01],\n",
       "       [0.000e+00, 1.370e+02, 4.000e+01, 3.500e+01, 1.680e+02, 4.310e+01,\n",
       "        2.288e+00, 3.300e+01]])"
      ]
     },
     "execution_count": 10,
     "metadata": {},
     "output_type": "execute_result"
    }
   ],
   "source": [
    "# Converting dataframe to numpy array\n",
    "\n",
    "x = np.array(df_features)   # feature array\n",
    "x[:5,:]"
   ]
  },
  {
   "cell_type": "code",
   "execution_count": 11,
   "id": "cca9a06b",
   "metadata": {},
   "outputs": [
    {
     "data": {
      "text/plain": [
       "array([[1],\n",
       "       [0],\n",
       "       [1],\n",
       "       [0],\n",
       "       [1]], dtype=int64)"
      ]
     },
     "execution_count": 11,
     "metadata": {},
     "output_type": "execute_result"
    }
   ],
   "source": [
    "# Extracting target values\n",
    "\n",
    "y = np.array(df['Outcome'])\n",
    "y = np.expand_dims(y,axis=1) # reshaping to 2d array\n",
    "y[:5]"
   ]
  },
  {
   "cell_type": "markdown",
   "id": "f846d51c",
   "metadata": {},
   "source": [
    "### Splitting dataset into train, validation and test set"
   ]
  },
  {
   "cell_type": "code",
   "execution_count": 12,
   "id": "b638f331",
   "metadata": {},
   "outputs": [],
   "source": [
    "from sklearn.model_selection import train_test_split"
   ]
  },
  {
   "cell_type": "code",
   "execution_count": 13,
   "id": "6501090b",
   "metadata": {},
   "outputs": [],
   "source": [
    "x_train, x_temp, y_train, y_temp = train_test_split(x,y, test_size=0.4, random_state = 1)\n",
    "x_cv, x_test, y_cv, y_test = train_test_split(x_temp, y_temp, test_size=0.4, random_state = 1)"
   ]
  },
  {
   "cell_type": "markdown",
   "id": "13e0474b",
   "metadata": {},
   "source": [
    "# Model Evaluation and Selection\n",
    "Training error and validation error is computed for models with different layers and units. Finally, the errors are compared to get the best model\n",
    "<br>\n",
    "<br>\n",
    "Note: Error is the fraction of misclassification on the given set"
   ]
  },
  {
   "cell_type": "code",
   "execution_count": 14,
   "id": "d7976d2a",
   "metadata": {},
   "outputs": [],
   "source": [
    "import tensorflow as tf  # importing TensorFlow module\n",
    "from tensorflow import keras  # importing Keras module from TensorFlow\n",
    "from tensorflow.keras.layers import Dense  # importing Dense layer class from Keras\n",
    "from tensorflow.keras.models import Sequential  # importing Sequential model class from Keras\n",
    "from tensorflow.keras.regularizers import l2  # importing L2 regularization from Keras regularizers"
   ]
  },
  {
   "cell_type": "code",
   "execution_count": 15,
   "id": "3446d592",
   "metadata": {},
   "outputs": [],
   "source": [
    "# function to build models with different number of layers and units\n",
    "\n",
    "def build_models():\n",
    "    model_1 = Sequential([\n",
    "        keras.layers.Normalization(input_shape=(x_train.shape[1],)),   # Normalizing input features\n",
    "        Dense(units=20, activation='relu', kernel_regularizer = l2(0.01), name='L1'), # using Ridge regularization\n",
    "        Dense(units=10, activation='relu', kernel_regularizer = l2(0.01), name='L2'),\n",
    "        Dense(units=1, activation='linear', kernel_regularizer = l2(0.01), name='L3')\n",
    "    ], name = 'model_1')\n",
    "        \n",
    "    model_2 = Sequential([\n",
    "        keras.layers.Normalization(input_shape=(x_train.shape[1],)),\n",
    "        Dense(units=25, activation='relu', kernel_regularizer = l2(0.01), name='L1'),\n",
    "        Dense(units=15, activation='relu', kernel_regularizer = l2(0.01), name='L2'),\n",
    "        Dense(units=1, activation='linear', kernel_regularizer = l2(0.01), name='L3')\n",
    "    ], name = 'model_2')\n",
    "\n",
    "        \n",
    "    model_3 = Sequential([\n",
    "        keras.layers.Normalization(input_shape=(x_train.shape[1],)),\n",
    "        Dense(units=20, activation='relu', kernel_regularizer = l2(0.01), name='L1'),\n",
    "        Dense(units=12, activation='relu', kernel_regularizer = l2(0.01), name='L2'),\n",
    "        Dense(units=12, activation='relu', kernel_regularizer = l2(0.01), name='L3'),\n",
    "        Dense(units=1, activation='linear', kernel_regularizer = l2(0.01), name='L4')\n",
    "    ], name = 'model_3')\n",
    "        \n",
    "    model_4 = Sequential([\n",
    "        keras.layers.Normalization(input_shape=(x_train.shape[1],)),\n",
    "        Dense(units=32, activation='relu', kernel_regularizer = l2(0.01), name='L1'),\n",
    "        Dense(units=16, activation='relu', kernel_regularizer = l2(0.01), name='L2'),\n",
    "        Dense(units=8, activation='relu', kernel_regularizer = l2(0.01), name='L3'),\n",
    "        Dense(units=4, activation='relu', kernel_regularizer = l2(0.01), name='L4'),\n",
    "        Dense(units=12, activation='relu', kernel_regularizer = l2(0.01), name='L5'),\n",
    "        Dense(units=1, activation='linear', kernel_regularizer = l2(0.01), name='L6')\n",
    "    ], name = 'model_4')\n",
    "    \n",
    "    model_list=[model_1, model_2, model_3, model_4]\n",
    "        \n",
    "    return model_list"
   ]
  },
  {
   "cell_type": "code",
   "execution_count": 16,
   "id": "3772aa99",
   "metadata": {},
   "outputs": [],
   "source": [
    "# building different models\n",
    "\n",
    "models = build_models()"
   ]
  },
  {
   "cell_type": "code",
   "execution_count": 17,
   "id": "8a3e9d40",
   "metadata": {},
   "outputs": [
    {
     "name": "stdout",
     "output_type": "stream",
     "text": [
      "training... model_1\n",
      "15/15 [==============================] - 0s 2ms/step\n",
      "6/6 [==============================] - 0s 3ms/step\n",
      "training... model_2\n",
      "15/15 [==============================] - 0s 2ms/step\n",
      "6/6 [==============================] - 0s 2ms/step\n",
      "training... model_3\n",
      "15/15 [==============================] - 0s 3ms/step\n",
      "6/6 [==============================] - 0s 3ms/step\n",
      "training... model_4\n",
      "15/15 [==============================] - 0s 1ms/step\n",
      "6/6 [==============================] - 0s 0s/step\n"
     ]
    }
   ],
   "source": [
    "# Training error of each model\n",
    "train_error_list= []\n",
    "\n",
    "# Validation error of each model\n",
    "val_error_list= []\n",
    "\n",
    "\n",
    "# training each model\n",
    "for model in models:\n",
    "    model.compile(\n",
    "        loss = tf.keras.losses.BinaryCrossentropy(from_logits=True),\n",
    "        optimizer = tf.keras.optimizers.Adam(learning_rate = 0.01 )\n",
    "    )\n",
    "    \n",
    "    print(f'training... {model.name}')\n",
    "    model.fit(\n",
    "        x_train, y_train,\n",
    "        epochs=200,\n",
    "        verbose=0  # not displaying training progress\n",
    "    )\n",
    "    \n",
    "    # Computing training error\n",
    "    yhat = model.predict(x_train)\n",
    "    yhat_sigmoid = tf.nn.sigmoid(yhat)\n",
    "    \n",
    "    threshold = 0.5\n",
    "    \n",
    "    yhat = np.where(yhat_sigmoid >= threshold, 1, 0)\n",
    "    train_error = yhat != y_train\n",
    "    train_error = np.mean(train_error)\n",
    "    train_error_list.append(train_error)  # computing training error\n",
    "    \n",
    "    # Computing validation error\n",
    "    yhat = model.predict(x_cv)\n",
    "    yhat_sigmoid = tf.nn.sigmoid(yhat)\n",
    "    \n",
    "    yhat = np.where(yhat_sigmoid >= threshold, 1, 0)\n",
    "    val_error = yhat != y_cv\n",
    "    val_error = np.mean(val_error)\n",
    "    val_error_list.append(val_error)\n",
    "        "
   ]
  },
  {
   "cell_type": "code",
   "execution_count": 18,
   "id": "b7de6a25",
   "metadata": {},
   "outputs": [
    {
     "name": "stdout",
     "output_type": "stream",
     "text": [
      "Displaying Training  and Validation error for each models\n",
      "\n",
      "Training error for model_1 = 0.2217391304347826\n",
      "Validation error for model_1 = 0.25\n",
      "\n",
      "Training error for model_2 = 0.23478260869565218\n",
      "Validation error for model_2 = 0.29891304347826086\n",
      "\n",
      "Training error for model_3 = 0.25869565217391305\n",
      "Validation error for model_3 = 0.25\n",
      "\n",
      "Training error for model_4 = 0.24130434782608695\n",
      "Validation error for model_4 = 0.23369565217391305\n",
      "\n"
     ]
    }
   ],
   "source": [
    "print('Displaying Training  and Validation error for each models\\n')\n",
    "for i,j in enumerate(models):\n",
    "    print(f'Training error for {j.name} = {train_error_list[i]}')\n",
    "    print(f'Validation error for {j.name} = {val_error_list[i]}\\n')\n"
   ]
  },
  {
   "cell_type": "code",
   "execution_count": 19,
   "id": "95a634dd",
   "metadata": {},
   "outputs": [
    {
     "data": {
      "text/plain": [
       "<keras.engine.sequential.Sequential at 0x2569e2858d0>"
      ]
     },
     "execution_count": 19,
     "metadata": {},
     "output_type": "execute_result"
    }
   ],
   "source": [
    "model_index = np.argmin(val_error_list)\n",
    "models[model_index]"
   ]
  },
  {
   "cell_type": "code",
   "execution_count": 20,
   "id": "f5b72308",
   "metadata": {},
   "outputs": [
    {
     "name": "stdout",
     "output_type": "stream",
     "text": [
      "Model: \"model_4\"\n",
      "_________________________________________________________________\n",
      " Layer (type)                Output Shape              Param #   \n",
      "=================================================================\n",
      " normalization_3 (Normalizat  (None, 8)                17        \n",
      " ion)                                                            \n",
      "                                                                 \n",
      " L1 (Dense)                  (None, 32)                288       \n",
      "                                                                 \n",
      " L2 (Dense)                  (None, 16)                528       \n",
      "                                                                 \n",
      " L3 (Dense)                  (None, 8)                 136       \n",
      "                                                                 \n",
      " L4 (Dense)                  (None, 4)                 36        \n",
      "                                                                 \n",
      " L5 (Dense)                  (None, 12)                60        \n",
      "                                                                 \n",
      " L6 (Dense)                  (None, 1)                 13        \n",
      "                                                                 \n",
      "=================================================================\n",
      "Total params: 1,078\n",
      "Trainable params: 1,061\n",
      "Non-trainable params: 17\n",
      "_________________________________________________________________\n"
     ]
    }
   ],
   "source": [
    "best_model = models[model_index]\n",
    "best_model.summary()"
   ]
  },
  {
   "cell_type": "markdown",
   "id": "14c70487",
   "metadata": {},
   "source": [
    "# Test Error OR Generalization  "
   ]
  },
  {
   "cell_type": "code",
   "execution_count": 21,
   "id": "add9af14",
   "metadata": {},
   "outputs": [
    {
     "name": "stdout",
     "output_type": "stream",
     "text": [
      "4/4 [==============================] - 0s 7ms/step\n",
      "Test error = 0.27419354838709675\n"
     ]
    }
   ],
   "source": [
    "yhat = best_model.predict(x_test)\n",
    "yhat_sigmoid = tf.nn.sigmoid(yhat)\n",
    "yhat = np.where(yhat_sigmoid >= threshold, 1, 0)\n",
    "\n",
    "test_error = yhat != y_test\n",
    "test_error = np.mean(test_error)\n",
    "print(f'Test error = {test_error}')"
   ]
  },
  {
   "cell_type": "markdown",
   "id": "64efd41b",
   "metadata": {},
   "source": [
    "## Saving Model "
   ]
  },
  {
   "cell_type": "code",
   "execution_count": 22,
   "id": "7f593cbb",
   "metadata": {},
   "outputs": [],
   "source": [
    "tf.keras.models.save_model(best_model,'model.h5')"
   ]
  },
  {
   "cell_type": "markdown",
   "id": "ce2e9312",
   "metadata": {},
   "source": [
    "## Loading trained model\n"
   ]
  },
  {
   "cell_type": "code",
   "execution_count": 23,
   "id": "3e58c562",
   "metadata": {},
   "outputs": [],
   "source": [
    "nn_model = tf.keras.models.load_model('model.h5')"
   ]
  },
  {
   "cell_type": "code",
   "execution_count": null,
   "id": "0f620f0f",
   "metadata": {},
   "outputs": [
    {
     "name": "stdout",
     "output_type": "stream",
     "text": [
      "Enter the following data:\n",
      "Pregnancies\n",
      "0\n",
      "Glucose\n"
     ]
    }
   ],
   "source": [
    "# taking input features to make predictin\n",
    "\n",
    "print('Enter the following data:')\n",
    "x_input = []\n",
    "\n",
    "for i in range(len(features)):\n",
    "    print(features[i])\n",
    "    x_i = float(input())\n",
    "    x_input.append(x_i)\n",
    "    \n",
    "x_input = np.array(x_input)\n",
    "pred = nn_model.predict(x_input)\n",
    "pred = tf.nn.sigmoid(pred)"
   ]
  },
  {
   "cell_type": "code",
   "execution_count": 25,
   "id": "9bafefcf",
   "metadata": {},
   "outputs": [
    {
     "name": "stdout",
     "output_type": "stream",
     "text": [
      "Congratulations! You have a low risk of developing diabetes based on your medical data.\n"
     ]
    }
   ],
   "source": [
    "# displaying the predicted result\n",
    "if pred>threshold:\n",
    "    print('Sorry! You have a higher risk of developing diabetes based on your medical data.')\n",
    "else:\n",
    "    print('Congratulations! You have a low risk of developing diabetes based on your medical data.')"
   ]
  },
  {
   "cell_type": "code",
   "execution_count": null,
   "id": "2c9d96d7",
   "metadata": {},
   "outputs": [],
   "source": []
  }
 ],
 "metadata": {
  "kernelspec": {
   "display_name": "Python 3 (ipykernel)",
   "language": "python",
   "name": "python3"
  },
  "language_info": {
   "codemirror_mode": {
    "name": "ipython",
    "version": 3
   },
   "file_extension": ".py",
   "mimetype": "text/x-python",
   "name": "python",
   "nbconvert_exporter": "python",
   "pygments_lexer": "ipython3",
   "version": "3.10.4"
  }
 },
 "nbformat": 4,
 "nbformat_minor": 5
}

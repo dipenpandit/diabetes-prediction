{
 "cells": [
  {
   "cell_type": "code",
   "execution_count": 1,
   "id": "a773cc14",
   "metadata": {},
   "outputs": [],
   "source": [
    "import numpy as np\n",
    "import pandas as pd\n",
    "import matplotlib.pyplot as plt"
   ]
  },
  {
   "cell_type": "markdown",
   "id": "5c1cdab8",
   "metadata": {},
   "source": [
    "# Data Preprocessing"
   ]
  },
  {
   "cell_type": "markdown",
   "id": "242b0649",
   "metadata": {},
   "source": [
    "### Importing the dataset"
   ]
  },
  {
   "cell_type": "code",
   "execution_count": 2,
   "id": "3dfe5c6c",
   "metadata": {},
   "outputs": [
    {
     "data": {
      "text/html": [
       "<div>\n",
       "<style scoped>\n",
       "    .dataframe tbody tr th:only-of-type {\n",
       "        vertical-align: middle;\n",
       "    }\n",
       "\n",
       "    .dataframe tbody tr th {\n",
       "        vertical-align: top;\n",
       "    }\n",
       "\n",
       "    .dataframe thead th {\n",
       "        text-align: right;\n",
       "    }\n",
       "</style>\n",
       "<table border=\"1\" class=\"dataframe\">\n",
       "  <thead>\n",
       "    <tr style=\"text-align: right;\">\n",
       "      <th></th>\n",
       "      <th>Pregnancies</th>\n",
       "      <th>Glucose</th>\n",
       "      <th>BloodPressure</th>\n",
       "      <th>SkinThickness</th>\n",
       "      <th>Insulin</th>\n",
       "      <th>BMI</th>\n",
       "      <th>DiabetesPedigreeFunction</th>\n",
       "      <th>Age</th>\n",
       "      <th>Outcome</th>\n",
       "    </tr>\n",
       "  </thead>\n",
       "  <tbody>\n",
       "    <tr>\n",
       "      <th>0</th>\n",
       "      <td>6</td>\n",
       "      <td>148</td>\n",
       "      <td>72</td>\n",
       "      <td>35</td>\n",
       "      <td>0</td>\n",
       "      <td>33.6</td>\n",
       "      <td>0.627</td>\n",
       "      <td>50</td>\n",
       "      <td>1</td>\n",
       "    </tr>\n",
       "    <tr>\n",
       "      <th>1</th>\n",
       "      <td>1</td>\n",
       "      <td>85</td>\n",
       "      <td>66</td>\n",
       "      <td>29</td>\n",
       "      <td>0</td>\n",
       "      <td>26.6</td>\n",
       "      <td>0.351</td>\n",
       "      <td>31</td>\n",
       "      <td>0</td>\n",
       "    </tr>\n",
       "    <tr>\n",
       "      <th>2</th>\n",
       "      <td>8</td>\n",
       "      <td>183</td>\n",
       "      <td>64</td>\n",
       "      <td>0</td>\n",
       "      <td>0</td>\n",
       "      <td>23.3</td>\n",
       "      <td>0.672</td>\n",
       "      <td>32</td>\n",
       "      <td>1</td>\n",
       "    </tr>\n",
       "    <tr>\n",
       "      <th>3</th>\n",
       "      <td>1</td>\n",
       "      <td>89</td>\n",
       "      <td>66</td>\n",
       "      <td>23</td>\n",
       "      <td>94</td>\n",
       "      <td>28.1</td>\n",
       "      <td>0.167</td>\n",
       "      <td>21</td>\n",
       "      <td>0</td>\n",
       "    </tr>\n",
       "    <tr>\n",
       "      <th>4</th>\n",
       "      <td>0</td>\n",
       "      <td>137</td>\n",
       "      <td>40</td>\n",
       "      <td>35</td>\n",
       "      <td>168</td>\n",
       "      <td>43.1</td>\n",
       "      <td>2.288</td>\n",
       "      <td>33</td>\n",
       "      <td>1</td>\n",
       "    </tr>\n",
       "  </tbody>\n",
       "</table>\n",
       "</div>"
      ],
      "text/plain": [
       "   Pregnancies  Glucose  BloodPressure  SkinThickness  Insulin   BMI  \\\n",
       "0            6      148             72             35        0  33.6   \n",
       "1            1       85             66             29        0  26.6   \n",
       "2            8      183             64              0        0  23.3   \n",
       "3            1       89             66             23       94  28.1   \n",
       "4            0      137             40             35      168  43.1   \n",
       "\n",
       "   DiabetesPedigreeFunction  Age  Outcome  \n",
       "0                     0.627   50        1  \n",
       "1                     0.351   31        0  \n",
       "2                     0.672   32        1  \n",
       "3                     0.167   21        0  \n",
       "4                     2.288   33        1  "
      ]
     },
     "execution_count": 2,
     "metadata": {},
     "output_type": "execute_result"
    }
   ],
   "source": [
    "# importing datset\n",
    "\n",
    "df = pd.read_csv('diabetes.csv')\n",
    "df.head()"
   ]
  },
  {
   "cell_type": "markdown",
   "id": "1fe1e153",
   "metadata": {},
   "source": [
    "### Checking null entries"
   ]
  },
  {
   "cell_type": "code",
   "execution_count": 3,
   "id": "ba3b4b73",
   "metadata": {},
   "outputs": [
    {
     "data": {
      "text/plain": [
       "Pregnancies                 0\n",
       "Glucose                     0\n",
       "BloodPressure               0\n",
       "SkinThickness               0\n",
       "Insulin                     0\n",
       "BMI                         0\n",
       "DiabetesPedigreeFunction    0\n",
       "Age                         0\n",
       "Outcome                     0\n",
       "dtype: int64"
      ]
     },
     "execution_count": 3,
     "metadata": {},
     "output_type": "execute_result"
    }
   ],
   "source": [
    "# null entries count\n",
    "\n",
    "df.isnull().sum()"
   ]
  },
  {
   "cell_type": "code",
   "execution_count": 4,
   "id": "48043e38",
   "metadata": {},
   "outputs": [
    {
     "name": "stdout",
     "output_type": "stream",
     "text": [
      "<class 'pandas.core.frame.DataFrame'>\n",
      "RangeIndex: 768 entries, 0 to 767\n",
      "Data columns (total 9 columns):\n",
      " #   Column                    Non-Null Count  Dtype  \n",
      "---  ------                    --------------  -----  \n",
      " 0   Pregnancies               768 non-null    int64  \n",
      " 1   Glucose                   768 non-null    int64  \n",
      " 2   BloodPressure             768 non-null    int64  \n",
      " 3   SkinThickness             768 non-null    int64  \n",
      " 4   Insulin                   768 non-null    int64  \n",
      " 5   BMI                       768 non-null    float64\n",
      " 6   DiabetesPedigreeFunction  768 non-null    float64\n",
      " 7   Age                       768 non-null    int64  \n",
      " 8   Outcome                   768 non-null    int64  \n",
      "dtypes: float64(2), int64(7)\n",
      "memory usage: 54.1 KB\n"
     ]
    }
   ],
   "source": [
    "df.info()"
   ]
  },
  {
   "cell_type": "markdown",
   "id": "be3ac577",
   "metadata": {},
   "source": [
    "### Checking duplicate entries "
   ]
  },
  {
   "cell_type": "code",
   "execution_count": 5,
   "id": "c946df6b",
   "metadata": {},
   "outputs": [
    {
     "data": {
      "text/plain": [
       "0      False\n",
       "1      False\n",
       "2      False\n",
       "3      False\n",
       "4      False\n",
       "       ...  \n",
       "763    False\n",
       "764    False\n",
       "765    False\n",
       "766    False\n",
       "767    False\n",
       "Length: 768, dtype: bool"
      ]
     },
     "execution_count": 5,
     "metadata": {},
     "output_type": "execute_result"
    }
   ],
   "source": [
    "df.duplicated()"
   ]
  },
  {
   "cell_type": "code",
   "execution_count": 6,
   "id": "9e51932a",
   "metadata": {},
   "outputs": [
    {
     "data": {
      "text/plain": [
       "0"
      ]
     },
     "execution_count": 6,
     "metadata": {},
     "output_type": "execute_result"
    }
   ],
   "source": [
    "df.duplicated().sum()"
   ]
  },
  {
   "cell_type": "markdown",
   "id": "1a680850",
   "metadata": {},
   "source": [
    "### Extracting feature and target values"
   ]
  },
  {
   "cell_type": "code",
   "execution_count": 7,
   "id": "0c205495",
   "metadata": {},
   "outputs": [
    {
     "data": {
      "text/plain": [
       "['Pregnancies',\n",
       " 'Glucose',\n",
       " 'BloodPressure',\n",
       " 'SkinThickness',\n",
       " 'Insulin',\n",
       " 'BMI',\n",
       " 'DiabetesPedigreeFunction',\n",
       " 'Age']"
      ]
     },
     "execution_count": 7,
     "metadata": {},
     "output_type": "execute_result"
    }
   ],
   "source": [
    "# list of features\n",
    "\n",
    "features = [x for x in df.columns if x not in df.columns[-1]]\n",
    "features"
   ]
  },
  {
   "cell_type": "code",
   "execution_count": 8,
   "id": "76a2bc72",
   "metadata": {},
   "outputs": [
    {
     "data": {
      "text/plain": [
       "'Outcome'"
      ]
     },
     "execution_count": 8,
     "metadata": {},
     "output_type": "execute_result"
    }
   ],
   "source": [
    "# target label\n",
    "\n",
    "target = df.columns[-1]\n",
    "target"
   ]
  },
  {
   "cell_type": "code",
   "execution_count": 9,
   "id": "effbe1e3",
   "metadata": {},
   "outputs": [
    {
     "data": {
      "text/html": [
       "<div>\n",
       "<style scoped>\n",
       "    .dataframe tbody tr th:only-of-type {\n",
       "        vertical-align: middle;\n",
       "    }\n",
       "\n",
       "    .dataframe tbody tr th {\n",
       "        vertical-align: top;\n",
       "    }\n",
       "\n",
       "    .dataframe thead th {\n",
       "        text-align: right;\n",
       "    }\n",
       "</style>\n",
       "<table border=\"1\" class=\"dataframe\">\n",
       "  <thead>\n",
       "    <tr style=\"text-align: right;\">\n",
       "      <th></th>\n",
       "      <th>Pregnancies</th>\n",
       "      <th>Glucose</th>\n",
       "      <th>BloodPressure</th>\n",
       "      <th>SkinThickness</th>\n",
       "      <th>Insulin</th>\n",
       "      <th>BMI</th>\n",
       "      <th>DiabetesPedigreeFunction</th>\n",
       "      <th>Age</th>\n",
       "    </tr>\n",
       "  </thead>\n",
       "  <tbody>\n",
       "    <tr>\n",
       "      <th>0</th>\n",
       "      <td>6</td>\n",
       "      <td>148</td>\n",
       "      <td>72</td>\n",
       "      <td>35</td>\n",
       "      <td>0</td>\n",
       "      <td>33.6</td>\n",
       "      <td>0.627</td>\n",
       "      <td>50</td>\n",
       "    </tr>\n",
       "    <tr>\n",
       "      <th>1</th>\n",
       "      <td>1</td>\n",
       "      <td>85</td>\n",
       "      <td>66</td>\n",
       "      <td>29</td>\n",
       "      <td>0</td>\n",
       "      <td>26.6</td>\n",
       "      <td>0.351</td>\n",
       "      <td>31</td>\n",
       "    </tr>\n",
       "    <tr>\n",
       "      <th>2</th>\n",
       "      <td>8</td>\n",
       "      <td>183</td>\n",
       "      <td>64</td>\n",
       "      <td>0</td>\n",
       "      <td>0</td>\n",
       "      <td>23.3</td>\n",
       "      <td>0.672</td>\n",
       "      <td>32</td>\n",
       "    </tr>\n",
       "    <tr>\n",
       "      <th>3</th>\n",
       "      <td>1</td>\n",
       "      <td>89</td>\n",
       "      <td>66</td>\n",
       "      <td>23</td>\n",
       "      <td>94</td>\n",
       "      <td>28.1</td>\n",
       "      <td>0.167</td>\n",
       "      <td>21</td>\n",
       "    </tr>\n",
       "    <tr>\n",
       "      <th>4</th>\n",
       "      <td>0</td>\n",
       "      <td>137</td>\n",
       "      <td>40</td>\n",
       "      <td>35</td>\n",
       "      <td>168</td>\n",
       "      <td>43.1</td>\n",
       "      <td>2.288</td>\n",
       "      <td>33</td>\n",
       "    </tr>\n",
       "  </tbody>\n",
       "</table>\n",
       "</div>"
      ],
      "text/plain": [
       "   Pregnancies  Glucose  BloodPressure  SkinThickness  Insulin   BMI  \\\n",
       "0            6      148             72             35        0  33.6   \n",
       "1            1       85             66             29        0  26.6   \n",
       "2            8      183             64              0        0  23.3   \n",
       "3            1       89             66             23       94  28.1   \n",
       "4            0      137             40             35      168  43.1   \n",
       "\n",
       "   DiabetesPedigreeFunction  Age  \n",
       "0                     0.627   50  \n",
       "1                     0.351   31  \n",
       "2                     0.672   32  \n",
       "3                     0.167   21  \n",
       "4                     2.288   33  "
      ]
     },
     "execution_count": 9,
     "metadata": {},
     "output_type": "execute_result"
    }
   ],
   "source": [
    "# Extracting features\n",
    "\n",
    "df_features = df.drop('Outcome', axis = 1)\n",
    "df_features.head()"
   ]
  },
  {
   "cell_type": "code",
   "execution_count": 10,
   "id": "abba10dd",
   "metadata": {},
   "outputs": [
    {
     "data": {
      "text/plain": [
       "array([[6.000e+00, 1.480e+02, 7.200e+01, 3.500e+01, 0.000e+00, 3.360e+01,\n",
       "        6.270e-01, 5.000e+01],\n",
       "       [1.000e+00, 8.500e+01, 6.600e+01, 2.900e+01, 0.000e+00, 2.660e+01,\n",
       "        3.510e-01, 3.100e+01],\n",
       "       [8.000e+00, 1.830e+02, 6.400e+01, 0.000e+00, 0.000e+00, 2.330e+01,\n",
       "        6.720e-01, 3.200e+01],\n",
       "       [1.000e+00, 8.900e+01, 6.600e+01, 2.300e+01, 9.400e+01, 2.810e+01,\n",
       "        1.670e-01, 2.100e+01],\n",
       "       [0.000e+00, 1.370e+02, 4.000e+01, 3.500e+01, 1.680e+02, 4.310e+01,\n",
       "        2.288e+00, 3.300e+01]])"
      ]
     },
     "execution_count": 10,
     "metadata": {},
     "output_type": "execute_result"
    }
   ],
   "source": [
    "# Converting dataframe to numpy array\n",
    "\n",
    "x = np.array(df_features)   # feature array\n",
    "x[:5,:]"
   ]
  },
  {
   "cell_type": "code",
   "execution_count": 11,
   "id": "cca9a06b",
   "metadata": {},
   "outputs": [
    {
     "data": {
      "text/plain": [
       "array([[1],\n",
       "       [0],\n",
       "       [1],\n",
       "       [0],\n",
       "       [1]], dtype=int64)"
      ]
     },
     "execution_count": 11,
     "metadata": {},
     "output_type": "execute_result"
    }
   ],
   "source": [
    "# Extracting target values\n",
    "\n",
    "y = np.array(df['Outcome'])\n",
    "y = np.expand_dims(y,axis=1) # reshaping to 2d array\n",
    "y[:5]"
   ]
  },
  {
   "cell_type": "markdown",
   "id": "4f3bdccc",
   "metadata": {},
   "source": [
    "## Feature vs Target Plot"
   ]
  },
  {
   "cell_type": "code",
   "execution_count": 12,
   "id": "c08e4cbb",
   "metadata": {},
   "outputs": [
    {
     "data": {
      "text/plain": [
       "Text(0.5, 0.98, 'Feature vs target plot')"
      ]
     },
     "execution_count": 12,
     "metadata": {},
     "output_type": "execute_result"
    },
    {
     "data": {
      "image/png": "[encoded data removed]",
      "text/plain": [
       "<Figure size 1152x1296 with 8 Axes>"
      ]
     },
     "metadata": {
      "needs_background": "light"
     },
     "output_type": "display_data"
    }
   ],
   "source": [
    "fig, ax = plt.subplots(4,2, figsize=(16,18))\n",
    "ax = ax.flatten()\n",
    "for i in range(len(features)):\n",
    "    \n",
    "    ax[i].scatter([x_val for x_val, y_val in zip(x[:,i], y) if y_val == 1],\n",
    "            [y_val for y_val in y if y_val == 1],\n",
    "            marker='o', color='blue', label='Diabetic')\n",
    "\n",
    "    ax[i].scatter([x_val for x_val, y_val in zip(x[:,i], y) if y_val == 0],\n",
    "            [y_val for y_val in y if y_val == 0],\n",
    "            marker='x', color='red',  label='Non-Diabetic')\n",
    "    \n",
    "    ax[i].set_xlabel(features[i])\n",
    "    ax[i].set_ylabel(target)\n",
    "    ax[i].legend()\n",
    "    \n",
    "fig.suptitle('Feature vs target plot', fontsize=25)"
   ]
  },
  {
   "cell_type": "markdown",
   "id": "f846d51c",
   "metadata": {},
   "source": [
    "### Splitting dataset into train, validation and test set"
   ]
  },
  {
   "cell_type": "code",
   "execution_count": 13,
   "id": "b638f331",
   "metadata": {},
   "outputs": [],
   "source": [
    "from sklearn.model_selection import train_test_split"
   ]
  },
  {
   "cell_type": "code",
   "execution_count": 14,
   "id": "6501090b",
   "metadata": {},
   "outputs": [],
   "source": [
    "x_train, x_temp, y_train, y_temp = train_test_split(x,y, test_size=0.4, random_state = 1)\n",
    "x_cv, x_test, y_cv, y_test = train_test_split(x_temp, y_temp, test_size=0.4, random_state = 1)"
   ]
  },
  {
   "cell_type": "markdown",
   "id": "13e0474b",
   "metadata": {},
   "source": [
    "# Model Evaluation and Selection\n",
    "Training error and validation error is computed for models with different layers and units. Finally, the errors are compared to get the best model\n",
    "<br>\n",
    "<br>\n",
    "Note: Error is the fraction of misclassification on the given set"
   ]
  },
  {
   "cell_type": "code",
   "execution_count": 15,
   "id": "d7976d2a",
   "metadata": {},
   "outputs": [],
   "source": [
    "import tensorflow as tf  # importing TensorFlow module\n",
    "from tensorflow import keras  # importing Keras module from TensorFlow\n",
    "from tensorflow.keras.layers import Dense  # importing Dense layer class from Keras\n",
    "from tensorflow.keras.models import Sequential  # importing Sequential model class from Keras\n",
    "from tensorflow.keras.regularizers import l2  # importing L2 regularization from Keras regularizers"
   ]
  },
  {
   "cell_type": "code",
   "execution_count": 16,
   "id": "3446d592",
   "metadata": {},
   "outputs": [],
   "source": [
    "# function to build models with different number of layers and units\n",
    "\n",
    "def build_models():\n",
    "    model_1 = Sequential([\n",
    "        keras.layers.Normalization(input_shape=(x_train.shape[1],)),   # Normalizing input features\n",
    "        Dense(units=20, activation='relu', kernel_regularizer = l2(0.01), name='L1'), # using Ridge regularization\n",
    "        Dense(units=10, activation='relu', kernel_regularizer = l2(0.01), name='L2'),\n",
    "        Dense(units=1, activation='linear', kernel_regularizer = l2(0.01), name='L3') \n",
    "    ], name = 'model_1')\n",
    "        \n",
    "    model_2 = Sequential([\n",
    "        keras.layers.Normalization(input_shape=(x_train.shape[1],)),\n",
    "        Dense(units=25, activation='relu', kernel_regularizer = l2(0.01), name='L1'),\n",
    "        Dense(units=15, activation='relu', kernel_regularizer = l2(0.01), name='L2'),\n",
    "        Dense(units=1, activation='linear', kernel_regularizer = l2(0.01), name='L3')\n",
    "    ], name = 'model_2')\n",
    "\n",
    "        \n",
    "    model_3 = Sequential([\n",
    "        keras.layers.Normalization(input_shape=(x_train.shape[1],)),\n",
    "        Dense(units=20, activation='relu', kernel_regularizer = l2(0.01), name='L1'),\n",
    "        Dense(units=12, activation='relu', kernel_regularizer = l2(0.01), name='L2'),\n",
    "        Dense(units=12, activation='relu', kernel_regularizer = l2(0.01), name='L3'),\n",
    "        Dense(units=1, activation='linear', kernel_regularizer = l2(0.01), name='L4')\n",
    "    ], name = 'model_3')\n",
    "        \n",
    "    model_4 = Sequential([\n",
    "        keras.layers.Normalization(input_shape=(x_train.shape[1],)),\n",
    "        Dense(units=32, activation='relu', kernel_regularizer = l2(0.01), name='L1'),\n",
    "        Dense(units=16, activation='relu', kernel_regularizer = l2(0.01), name='L2'),\n",
    "        Dense(units=8, activation='relu', kernel_regularizer = l2(0.01), name='L3'),\n",
    "        Dense(units=4, activation='relu', kernel_regularizer = l2(0.01), name='L4'),\n",
    "        Dense(units=12, activation='relu', kernel_regularizer = l2(0.01), name='L5'),\n",
    "        Dense(units=1, activation='linear', kernel_regularizer = l2(0.01), name='L6')\n",
    "    ], name = 'model_4')\n",
    "    \n",
    "    model_list=[model_1, model_2, model_3, model_4]\n",
    "        \n",
    "    return model_list"
   ]
  },
  {
   "cell_type": "code",
   "execution_count": 17,
   "id": "3772aa99",
   "metadata": {},
   "outputs": [],
   "source": [
    "# building different models\n",
    "\n",
    "models = build_models()"
   ]
  },
  {
   "cell_type": "code",
   "execution_count": 19,
   "id": "8a3e9d40",
   "metadata": {},
   "outputs": [
    {
     "name": "stdout",
     "output_type": "stream",
     "text": [
      "training... model_1\n",
      "15/15 [==============================] - 0s 824us/step\n",
      "6/6 [==============================] - 0s 3ms/step\n",
      "training... model_2\n",
      "15/15 [==============================] - 0s 1ms/step\n",
      "6/6 [==============================] - 0s 680us/step\n",
      "training... model_3\n",
      "15/15 [==============================] - 0s 2ms/step\n",
      "6/6 [==============================] - 0s 3ms/step\n",
      "training... model_4\n",
      "15/15 [==============================] - 0s 2ms/step\n",
      "6/6 [==============================] - 0s 2ms/step\n"
     ]
    }
   ],
   "source": [
    "# Training error of each model\n",
    "train_error_list= []\n",
    "\n",
    "# Validation error of each model\n",
    "val_error_list= []\n",
    "\n",
    "\n",
    "# training each model\n",
    "for model in models:\n",
    "    model.compile(\n",
    "        loss = tf.keras.losses.BinaryCrossentropy(from_logits=True), \n",
    "       # sigmoid activation funciton is internally applied while calculating BinaryCrossentopy loss\n",
    "       # so that the roundoff error are minimized \n",
    "        optimizer = tf.keras.optimizers.Adam(learning_rate = 0.01 )\n",
    "    )\n",
    "    \n",
    "    print(f'training... {model.name}')\n",
    "    model.fit(\n",
    "        x_train, y_train,\n",
    "        epochs=200,\n",
    "        verbose=0  # not displaying training progress\n",
    "    )\n",
    "    \n",
    "    # Computing training error\n",
    "    yhat = model.predict(x_train)\n",
    "    yhat_sigmoid = tf.nn.sigmoid(yhat)\n",
    "    \n",
    "    threshold = 0.5\n",
    "    \n",
    "    yhat = np.where(yhat_sigmoid >= threshold, 1, 0)\n",
    "    train_error = yhat != y_train\n",
    "    train_error = np.mean(train_error)\n",
    "    train_error_list.append(train_error)  # computing training error\n",
    "    \n",
    "    # Computing validation error\n",
    "    yhat = model.predict(x_cv)\n",
    "    # getting probability values since the output layer is 'linear' \n",
    "    yhat_sigmoid = tf.nn.sigmoid(yhat)\n",
    "    \n",
    "    yhat = np.where(yhat_sigmoid >= threshold, 1, 0)\n",
    "    val_error = yhat != y_cv\n",
    "    val_error = np.mean(val_error)\n",
    "    val_error_list.append(val_error)\n",
    "        "
   ]
  },
  {
   "cell_type": "code",
   "execution_count": 20,
   "id": "b7de6a25",
   "metadata": {},
   "outputs": [
    {
     "name": "stdout",
     "output_type": "stream",
     "text": [
      "Displaying Training  and Validation error for each models\n",
      "\n",
      "Training error for model_1 = 0.2543478260869565\n",
      "Validation error for model_1 = 0.22282608695652173\n",
      "\n",
      "Training error for model_2 = 0.21956521739130436\n",
      "Validation error for model_2 = 0.2608695652173913\n",
      "\n",
      "Training error for model_3 = 0.22391304347826088\n",
      "Validation error for model_3 = 0.20652173913043478\n",
      "\n",
      "Training error for model_4 = 0.25217391304347825\n",
      "Validation error for model_4 = 0.22282608695652173\n",
      "\n"
     ]
    }
   ],
   "source": [
    "print('Displaying Training  and Validation error for each models\\n')\n",
    "for i,j in enumerate(models):\n",
    "    print(f'Training error for {j.name} = {train_error_list[i]}')\n",
    "    print(f'Validation error for {j.name} = {val_error_list[i]}\\n')\n"
   ]
  },
  {
   "cell_type": "code",
   "execution_count": 21,
   "id": "95a634dd",
   "metadata": {},
   "outputs": [
    {
     "data": {
      "text/plain": [
       "'model_3'"
      ]
     },
     "execution_count": 21,
     "metadata": {},
     "output_type": "execute_result"
    }
   ],
   "source": [
    "# select the model with the lowest validation error\n",
    "\n",
    "model_index = np.argmin(val_error_list)\n",
    "models[model_index].name"
   ]
  },
  {
   "cell_type": "code",
   "execution_count": 22,
   "id": "d8351e52",
   "metadata": {},
   "outputs": [
    {
     "name": "stdout",
     "output_type": "stream",
     "text": [
      "Model: \"model_3\"\n",
      "_________________________________________________________________\n",
      " Layer (type)                Output Shape              Param #   \n",
      "=================================================================\n",
      " normalization_2 (Normalizat  (None, 8)                17        \n",
      " ion)                                                            \n",
      "                                                                 \n",
      " L1 (Dense)                  (None, 20)                180       \n",
      "                                                                 \n",
      " L2 (Dense)                  (None, 12)                252       \n",
      "                                                                 \n",
      " L3 (Dense)                  (None, 12)                156       \n",
      "                                                                 \n",
      " L4 (Dense)                  (None, 1)                 13        \n",
      "                                                                 \n",
      "=================================================================\n",
      "Total params: 618\n",
      "Trainable params: 601\n",
      "Non-trainable params: 17\n",
      "_________________________________________________________________\n"
     ]
    }
   ],
   "source": [
    "# displaying best model\n",
    "\n",
    "best_model = models[model_index]\n",
    "best_model.summary()"
   ]
  },
  {
   "cell_type": "markdown",
   "id": "63c536dd",
   "metadata": {},
   "source": [
    "# Test Error OR Generalization  "
   ]
  },
  {
   "cell_type": "code",
   "execution_count": 25,
   "id": "6c52f55b",
   "metadata": {},
   "outputs": [
    {
     "name": "stdout",
     "output_type": "stream",
     "text": [
      "4/4 [==============================] - 0s 2ms/step\n",
      "Test error = 0.22580645161290322\n"
     ]
    }
   ],
   "source": [
    "yhat = best_model.predict(x_test)\n",
    "yhat_sigmoid = tf.nn.sigmoid(yhat)\n",
    "yhat = np.where(yhat_sigmoid >= threshold, 1, 0)\n",
    "test_error = yhat != y_test\n",
    "test_error = np.mean(test_error)\n",
    "print(f'Test error = {test_error}')"
   ]
  },
  {
   "cell_type": "markdown",
   "id": "c48e65e2",
   "metadata": {},
   "source": [
    "## Saving Model "
   ]
  },
  {
   "cell_type": "code",
   "execution_count": 26,
   "id": "48b08228",
   "metadata": {},
   "outputs": [],
   "source": [
    "# saving the best model as 'model.h5'\n",
    "tf.keras.models.save_model(best_model,'model.h5')"
   ]
  },
  {
   "cell_type": "markdown",
   "id": "39dceed8",
   "metadata": {},
   "source": [
    "## Loading trained model\n"
   ]
  },
  {
   "cell_type": "code",
   "execution_count": 27,
   "id": "7d0de09e",
   "metadata": {},
   "outputs": [],
   "source": [
    "# loading the trained model in nn_model\n",
    "nn_model = tf.keras.models.load_model('model.h5')"
   ]
  },
  {
   "cell_type": "code",
   "execution_count": 29,
   "id": "3ca1f19b",
   "metadata": {},
   "outputs": [
    {
     "name": "stdout",
     "output_type": "stream",
     "text": [
      "Enter the following data:\n",
      "\n",
      "Pregnancies\n",
      "0\n",
      "Glucose\n",
      "90\n",
      "BloodPressure\n",
      "70\n",
      "SkinThickness\n",
      "15\n",
      "Insulin\n",
      "0\n",
      "BMI\n",
      "25\n",
      "DiabetesPedigreeFunction\n",
      "0.3\n",
      "Age\n",
      "21\n",
      "1/1 [==============================] - 0s 65ms/step\n"
     ]
    }
   ],
   "source": [
    "# taking input features to make predictin\n",
    "print('Enter the following data:\\n')\n",
    "x_input = []\n",
    "\n",
    "for i in range(len(features)):\n",
    "    print(features[i])\n",
    "    x_i = float(input())\n",
    "    x_input.append(x_i)\n",
    "    \n",
    "x_input = np.array(x_input)\n",
    "pred = nn_model.predict(x_input)\n",
    "pred = tf.nn.sigmoid(pred)"
   ]
  },
  {
   "cell_type": "code",
   "execution_count": 30,
   "id": "a1866067",
   "metadata": {},
   "outputs": [
    {
     "name": "stdout",
     "output_type": "stream",
     "text": [
      "Congratulations! You have a low risk of developing diabetes based on your medical data.\n"
     ]
    }
   ],
   "source": [
    "# displaying the predicted result\n",
    "if pred >= threshold:\n",
    "    print('Sorry! You have a higher risk of developing diabetes based on your medical data.')\n",
    "else:\n",
    "    print('Congratulations! You have a low risk of developing diabetes based on your medical data.')"
   ]
  },
  {
   "cell_type": "code",
   "execution_count": null,
   "id": "feab3549",
   "metadata": {},
   "outputs": [],
   "source": []
  }
 ],
 "metadata": {
  "kernelspec": {
   "display_name": "Python 3 (ipykernel)",
   "language": "python",
   "name": "python3"
  },
  "language_info": {
   "codemirror_mode": {
    "name": "ipython",
    "version": 3
   },
   "file_extension": ".py",
   "mimetype": "text/x-python",
   "name": "python",
   "nbconvert_exporter": "python",
   "pygments_lexer": "ipython3",
   "version": "3.10.4"
  }
 },
 "nbformat": 4,
 "nbformat_minor": 5
}
